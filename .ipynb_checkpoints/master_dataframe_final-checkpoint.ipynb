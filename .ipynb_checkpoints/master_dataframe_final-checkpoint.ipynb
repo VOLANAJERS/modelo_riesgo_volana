{
 "cells": [
  {
   "cell_type": "code",
   "execution_count": 92,
   "id": "35dcee9a",
   "metadata": {},
   "outputs": [],
   "source": [
    "import numpy as np\n",
    "import pandas as pd\n",
    "from datetime import datetime"
   ]
  },
  {
   "cell_type": "code",
   "execution_count": 93,
   "id": "106a222a",
   "metadata": {},
   "outputs": [],
   "source": [
    "fecha = '2024_03_10'"
   ]
  },
  {
   "cell_type": "markdown",
   "id": "ffdb8e28",
   "metadata": {},
   "source": [
    "Cargando los datos"
   ]
  },
  {
   "cell_type": "code",
   "execution_count": 94,
   "id": "ee2bbe2f",
   "metadata": {},
   "outputs": [],
   "source": [
    "data_demo = pd.read_csv(f\"./data/staging/data_demografica_{fecha}_staging.csv\")\n",
    "data_comportamiento = pd.read_csv(f\"./data/staging/data_comportamiento_{fecha}_staging.csv\")\n",
    "data_cc = pd.read_csv(f\"./data/staging/data_cc_{fecha}_staging.csv\")"
   ]
  },
  {
   "cell_type": "code",
   "execution_count": 95,
   "id": "e4ad36a4",
   "metadata": {},
   "outputs": [
    {
     "data": {
      "text/plain": [
       "linea                     28619\n",
       "prestamo_personal_red     14919\n",
       "prestamo_personal_club      979\n",
       "Name: tipo_prestamo, dtype: int64"
      ]
     },
     "execution_count": 95,
     "metadata": {},
     "output_type": "execute_result"
    }
   ],
   "source": [
    "pd.merge(data_comportamiento, data_demo, on = 'id_distribuidor').tipo_prestamo.value_counts()"
   ]
  },
  {
   "cell_type": "code",
   "execution_count": 96,
   "id": "98d5102f",
   "metadata": {},
   "outputs": [
    {
     "data": {
      "text/plain": [
       "linea                     16483\n",
       "prestamo_personal_red      7713\n",
       "prestamo_personal_club      614\n",
       "Name: tipo_prestamo, dtype: int64"
      ]
     },
     "execution_count": 96,
     "metadata": {},
     "output_type": "execute_result"
    }
   ],
   "source": [
    "pd.merge(data_comportamiento, data_cc, on = 'id_distribuidor').tipo_prestamo.value_counts()"
   ]
  },
  {
   "cell_type": "code",
   "execution_count": 97,
   "id": "c932db5d",
   "metadata": {},
   "outputs": [
    {
     "data": {
      "text/plain": [
       "linea                     16438\n",
       "prestamo_personal_red      7709\n",
       "prestamo_personal_club      612\n",
       "Name: tipo_prestamo, dtype: int64"
      ]
     },
     "execution_count": 97,
     "metadata": {},
     "output_type": "execute_result"
    }
   ],
   "source": [
    "pd.merge(data_comportamiento, pd.merge(data_demo, data_cc, on = 'id_distribuidor'), on = 'id_distribuidor').tipo_prestamo.value_counts()"
   ]
  },
  {
   "cell_type": "code",
   "execution_count": 98,
   "id": "a96c032d",
   "metadata": {},
   "outputs": [],
   "source": [
    "data_final = pd.merge(pd.merge(data_comportamiento, data_demo, on = 'id_distribuidor'), data_cc, on = 'id_distribuidor')"
   ]
  },
  {
   "cell_type": "code",
   "execution_count": 99,
   "id": "8fcf223f",
   "metadata": {},
   "outputs": [],
   "source": [
    "# Quitando los replicados tomando si una persona tiene un rendimiento malo, que lo tenga siempre\n",
    "#data_final = data_final.sort_values(by = 'perdida_cosecha').drop_duplicates(subset=['id_distribuidor'], keep='last')"
   ]
  },
  {
   "cell_type": "markdown",
   "id": "10fed4b7",
   "metadata": {},
   "source": [
    "Quitando los ids y pasando a dummy"
   ]
  },
  {
   "cell_type": "code",
   "execution_count": 87,
   "id": "902410f5",
   "metadata": {},
   "outputs": [],
   "source": [
    "#data_final = data_final.drop(['id_red', 'id_operacion','folio'], axis = 1)"
   ]
  },
  {
   "cell_type": "code",
   "execution_count": 100,
   "id": "32471d77",
   "metadata": {},
   "outputs": [],
   "source": [
    "data_final_guardar = pd.concat([pd.get_dummies(data_final.drop(\"tipo_prestamo\", axis = 1)), data_final[\"tipo_prestamo\"]], axis = 1)"
   ]
  },
  {
   "cell_type": "code",
   "execution_count": 101,
   "id": "85f78d90",
   "metadata": {},
   "outputs": [
    {
     "data": {
      "text/plain": [
       "linea                     16438\n",
       "prestamo_personal_red      7709\n",
       "prestamo_personal_club      612\n",
       "Name: tipo_prestamo, dtype: int64"
      ]
     },
     "execution_count": 101,
     "metadata": {},
     "output_type": "execute_result"
    }
   ],
   "source": [
    "data_final_guardar.tipo_prestamo.value_counts()"
   ]
  },
  {
   "cell_type": "code",
   "execution_count": 102,
   "id": "f941d58e",
   "metadata": {},
   "outputs": [
    {
     "data": {
      "text/html": [
       "<div>\n",
       "<style scoped>\n",
       "    .dataframe tbody tr th:only-of-type {\n",
       "        vertical-align: middle;\n",
       "    }\n",
       "\n",
       "    .dataframe tbody tr th {\n",
       "        vertical-align: top;\n",
       "    }\n",
       "\n",
       "    .dataframe thead th {\n",
       "        text-align: right;\n",
       "    }\n",
       "</style>\n",
       "<table border=\"1\" class=\"dataframe\">\n",
       "  <thead>\n",
       "    <tr style=\"text-align: right;\">\n",
       "      <th></th>\n",
       "      <th>id_distribuidor</th>\n",
       "      <th>id_red</th>\n",
       "      <th>id_operacion</th>\n",
       "      <th>perdida_cosecha</th>\n",
       "      <th>dependientes</th>\n",
       "      <th>tiempo_vivienda</th>\n",
       "      <th>ingreso_neto</th>\n",
       "      <th>tipo_negocio</th>\n",
       "      <th>tiempo_op_negocio</th>\n",
       "      <th>edad</th>\n",
       "      <th>...</th>\n",
       "      <th>estado_civil_viuda</th>\n",
       "      <th>tipo_vivienda_familiar</th>\n",
       "      <th>tipo_vivienda_otro</th>\n",
       "      <th>tipo_vivienda_propia</th>\n",
       "      <th>tipo_vivienda_rentada</th>\n",
       "      <th>sexo_femenino</th>\n",
       "      <th>sexo_masculino</th>\n",
       "      <th>experiencia_no</th>\n",
       "      <th>experiencia_si</th>\n",
       "      <th>tipo_prestamo</th>\n",
       "    </tr>\n",
       "  </thead>\n",
       "  <tbody>\n",
       "    <tr>\n",
       "      <th>0</th>\n",
       "      <td>100002</td>\n",
       "      <td>100399</td>\n",
       "      <td>100400</td>\n",
       "      <td>0.0</td>\n",
       "      <td>2.922441</td>\n",
       "      <td>-0.840328</td>\n",
       "      <td>0.001789</td>\n",
       "      <td>-0.840328</td>\n",
       "      <td>0.331977</td>\n",
       "      <td>-0.331258</td>\n",
       "      <td>...</td>\n",
       "      <td>0</td>\n",
       "      <td>1</td>\n",
       "      <td>0</td>\n",
       "      <td>0</td>\n",
       "      <td>0</td>\n",
       "      <td>1</td>\n",
       "      <td>0</td>\n",
       "      <td>1</td>\n",
       "      <td>0</td>\n",
       "      <td>prestamo_personal_red</td>\n",
       "    </tr>\n",
       "  </tbody>\n",
       "</table>\n",
       "<p>1 rows × 56 columns</p>\n",
       "</div>"
      ],
      "text/plain": [
       "   id_distribuidor  id_red  id_operacion  perdida_cosecha  dependientes  \\\n",
       "0           100002  100399        100400              0.0      2.922441   \n",
       "\n",
       "   tiempo_vivienda  ingreso_neto  tipo_negocio  tiempo_op_negocio      edad  \\\n",
       "0        -0.840328      0.001789     -0.840328           0.331977 -0.331258   \n",
       "\n",
       "   ...  estado_civil_viuda  tipo_vivienda_familiar  tipo_vivienda_otro  \\\n",
       "0  ...                   0                       1                   0   \n",
       "\n",
       "   tipo_vivienda_propia  tipo_vivienda_rentada  sexo_femenino  sexo_masculino  \\\n",
       "0                     0                      0              1               0   \n",
       "\n",
       "   experiencia_no  experiencia_si          tipo_prestamo  \n",
       "0               1               0  prestamo_personal_red  \n",
       "\n",
       "[1 rows x 56 columns]"
      ]
     },
     "execution_count": 102,
     "metadata": {},
     "output_type": "execute_result"
    }
   ],
   "source": [
    "data_final_guardar.head(1)"
   ]
  },
  {
   "cell_type": "code",
   "execution_count": 103,
   "id": "96e9e3cd",
   "metadata": {},
   "outputs": [],
   "source": [
    "data_final_guardar.to_csv(f\"./data/master/data_{fecha}_master.csv\", index=False)"
   ]
  },
  {
   "cell_type": "code",
   "execution_count": null,
   "id": "9ddfb739",
   "metadata": {},
   "outputs": [],
   "source": []
  },
  {
   "cell_type": "code",
   "execution_count": null,
   "id": "0b92685c",
   "metadata": {},
   "outputs": [],
   "source": []
  },
  {
   "cell_type": "code",
   "execution_count": null,
   "id": "8d25d5b2",
   "metadata": {},
   "outputs": [],
   "source": []
  },
  {
   "cell_type": "code",
   "execution_count": null,
   "id": "8b8c76a0",
   "metadata": {},
   "outputs": [],
   "source": []
  },
  {
   "cell_type": "code",
   "execution_count": null,
   "id": "d52bcc66",
   "metadata": {},
   "outputs": [],
   "source": []
  },
  {
   "cell_type": "code",
   "execution_count": null,
   "id": "8543c9f9",
   "metadata": {},
   "outputs": [],
   "source": []
  }
 ],
 "metadata": {
  "kernelspec": {
   "display_name": "Python 3 (ipykernel)",
   "language": "python",
   "name": "python3"
  },
  "language_info": {
   "codemirror_mode": {
    "name": "ipython",
    "version": 3
   },
   "file_extension": ".py",
   "mimetype": "text/x-python",
   "name": "python",
   "nbconvert_exporter": "python",
   "pygments_lexer": "ipython3",
   "version": "3.11.4"
  }
 },
 "nbformat": 4,
 "nbformat_minor": 5
}
