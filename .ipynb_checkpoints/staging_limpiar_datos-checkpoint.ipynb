{
 "cells": [
  {
   "cell_type": "code",
   "execution_count": 15,
   "id": "a02a6640",
   "metadata": {},
   "outputs": [],
   "source": [
    "import numpy as np\n",
    "import pandas as pd\n",
    "import pymysql\n",
    "from datetime import datetime\n",
    "import re\n",
    "from sklearn.preprocessing import StandardScaler\n",
    "import joblib"
   ]
  },
  {
   "cell_type": "code",
   "execution_count": 2,
   "id": "8d1db0e0",
   "metadata": {},
   "outputs": [],
   "source": [
    "fecha = '2024_03_10'"
   ]
  },
  {
   "cell_type": "markdown",
   "id": "ac5d742d",
   "metadata": {},
   "source": [
    "## Comportamiento\n",
    "\n",
    "Solo necesita limpieza en la variable tipo_prestamo y status para seguir el estandar"
   ]
  },
  {
   "cell_type": "code",
   "execution_count": 3,
   "id": "57876215",
   "metadata": {},
   "outputs": [],
   "source": [
    "data_comportamiento = pd.read_csv(f\"./data/raw/data_comportamiento_{fecha}_raw.csv\")"
   ]
  },
  {
   "cell_type": "code",
   "execution_count": 4,
   "id": "b27dfc9a",
   "metadata": {},
   "outputs": [],
   "source": [
    "data_comportamiento.tipo_prestamo = data_comportamiento.tipo_prestamo.str.lower().str.replace(\" \",\"_\")\n",
    "data_comportamiento.status = data_comportamiento.status.str.lower().str.replace(\" \",\"_\")"
   ]
  },
  {
   "cell_type": "code",
   "execution_count": 5,
   "id": "52238066",
   "metadata": {},
   "outputs": [
    {
     "data": {
      "text/plain": [
       "id_distribuidor          0\n",
       "id_red                   0\n",
       "id_operacion             0\n",
       "tipo_prestamo            0\n",
       "fecha_cierre             0\n",
       "fecha_de_dispersion      0\n",
       "saldo                    0\n",
       "capital_pagado           0\n",
       "capital_pendiente        0\n",
       "capital                  0\n",
       "perdida_cosecha          2\n",
       "dias_atraso              0\n",
       "fecha                    0\n",
       "status                   0\n",
       "fecha_inicio_relacion    0\n",
       "dtype: int64"
      ]
     },
     "execution_count": 5,
     "metadata": {},
     "output_type": "execute_result"
    }
   ],
   "source": [
    "data_comportamiento.isna().sum()"
   ]
  },
  {
   "cell_type": "code",
   "execution_count": 6,
   "id": "a7a3b55d",
   "metadata": {},
   "outputs": [],
   "source": [
    "data_comportamiento = data_comportamiento.dropna()"
   ]
  },
  {
   "cell_type": "markdown",
   "id": "406a4ad1",
   "metadata": {},
   "source": [
    "**Guardaremos solo las variables que sean de importancia para el análisis**"
   ]
  },
  {
   "cell_type": "code",
   "execution_count": 214,
   "id": "e65d7ffd",
   "metadata": {},
   "outputs": [],
   "source": [
    "data_comportamiento[['id_distribuidor', 'id_red', 'id_operacion', 'tipo_prestamo','perdida_cosecha']].\\\n",
    "                        to_csv(f\"./data/staging/data_comportamiento_{fecha}_staging.csv\", index = False)"
   ]
  },
  {
   "cell_type": "code",
   "execution_count": 215,
   "id": "52dce24a",
   "metadata": {},
   "outputs": [
    {
     "data": {
      "text/plain": [
       "linea                     28706\n",
       "prestamo_personal_red     14947\n",
       "prestamo_personal_club      982\n",
       "Name: tipo_prestamo, dtype: int64"
      ]
     },
     "execution_count": 215,
     "metadata": {},
     "output_type": "execute_result"
    }
   ],
   "source": [
    "data_comportamiento.tipo_prestamo.value_counts()"
   ]
  },
  {
   "cell_type": "markdown",
   "id": "3f21718c",
   "metadata": {},
   "source": [
    "## Demográfico"
   ]
  },
  {
   "cell_type": "code",
   "execution_count": 194,
   "id": "4d5e3721",
   "metadata": {},
   "outputs": [],
   "source": [
    "data_demo = pd.read_csv(f\"./data/raw/data_demografica_{fecha}_raw.csv\")"
   ]
  },
  {
   "cell_type": "markdown",
   "id": "f2a1bbbd",
   "metadata": {},
   "source": [
    "**Tratamiento de nulos**"
   ]
  },
  {
   "cell_type": "code",
   "execution_count": 195,
   "id": "85bcf20d",
   "metadata": {},
   "outputs": [
    {
     "data": {
      "text/plain": [
       "id_distribuidor              0\n",
       "fecha_nacimiento             0\n",
       "estado                       0\n",
       "sucursal                     0\n",
       "escolaridad                  0\n",
       "estado_civil                38\n",
       "dependientes                 0\n",
       "tipo_vivienda              479\n",
       "sexo                         0\n",
       "tiempo_vivienda              0\n",
       "ingreso_neto                 0\n",
       "experiencia                  0\n",
       "tipo_negocio                 0\n",
       "tiempo_op_negocio            0\n",
       "capacidad_pago_semanal    3159\n",
       "dtype: int64"
      ]
     },
     "execution_count": 195,
     "metadata": {},
     "output_type": "execute_result"
    }
   ],
   "source": [
    "data_demo.isna().sum()"
   ]
  },
  {
   "cell_type": "markdown",
   "id": "dfb1915d",
   "metadata": {},
   "source": [
    "Eliminar capacidad_pago_semanal y llenar las variables estado_civil - tipo_vivienda por la moda"
   ]
  },
  {
   "cell_type": "code",
   "execution_count": 196,
   "id": "7246bd1d",
   "metadata": {},
   "outputs": [],
   "source": [
    "data_demo.drop(['capacidad_pago_semanal'], axis = 1, inplace=True)"
   ]
  },
  {
   "cell_type": "code",
   "execution_count": 197,
   "id": "2412b435",
   "metadata": {},
   "outputs": [
    {
     "name": "stdout",
     "output_type": "stream",
     "text": [
      "moda para tipo_vivienda: Familiar\n",
      "moda para estado_civil: Casada (o)\n"
     ]
    }
   ],
   "source": [
    "variables_cambiar_por_moda = ['tipo_vivienda', 'estado_civil']\n",
    "for var in variables_cambiar_por_moda:\n",
    "    moda = data_demo[var].value_counts().index[0]\n",
    "    data_demo[var] = data_demo[var].fillna(moda)\n",
    "    print(f\"moda para {var}: {moda}\")"
   ]
  },
  {
   "cell_type": "code",
   "execution_count": 198,
   "id": "c646af0a",
   "metadata": {},
   "outputs": [
    {
     "data": {
      "text/plain": [
       "id_distribuidor      False\n",
       "fecha_nacimiento     False\n",
       "estado               False\n",
       "sucursal             False\n",
       "escolaridad          False\n",
       "estado_civil         False\n",
       "dependientes         False\n",
       "tipo_vivienda        False\n",
       "sexo                 False\n",
       "tiempo_vivienda      False\n",
       "ingreso_neto         False\n",
       "experiencia          False\n",
       "tipo_negocio         False\n",
       "tiempo_op_negocio    False\n",
       "dtype: bool"
      ]
     },
     "execution_count": 198,
     "metadata": {},
     "output_type": "execute_result"
    }
   ],
   "source": [
    "data_demo.isna().any()"
   ]
  },
  {
   "cell_type": "markdown",
   "id": "21626773",
   "metadata": {},
   "source": [
    "**Procesamiento y limpieza**"
   ]
  },
  {
   "cell_type": "code",
   "execution_count": 199,
   "id": "47e55c5b",
   "metadata": {},
   "outputs": [],
   "source": [
    "# Funciones necesarias\n",
    "def processing_calcular_edad(fecha_nacimiento):\n",
    "    fecha_nacimiento = pd.to_datetime(fecha_nacimiento) \n",
    "    fecha_actual = datetime.now()\n",
    "    edad = fecha_actual.year - fecha_nacimiento.year - ((fecha_actual.month, fecha_actual.day) < (fecha_nacimiento.month, fecha_nacimiento.day))\n",
    "    return edad\n",
    "\n",
    "def processing_quitar_cadenas_texto(txt):\n",
    "    txt = txt.lower()\n",
    "    txt = txt.replace(\" \", \"_\")\n",
    "    txt = txt.replace(\"_(o)\", \"\")\n",
    "    txt = txt.replace(\"$\", \"\")\n",
    "    txt = txt.replace(\",\", \"\")\n",
    "    txt = txt.replace(\".00\", \"\")\n",
    "    \n",
    "    txt = txt.replace(\"á\", \"a\")\n",
    "    txt = txt.replace(\"é\", \"e\")\n",
    "    txt = txt.replace(\"í\", \"i\")\n",
    "    txt = txt.replace(\"ó\", \"o\")\n",
    "    txt = txt.replace(\"ú\", \"u\")\n",
    "    return txt\n",
    "\n",
    "def processing_extraer_primer_numero(cadena):\n",
    "    # Buscar el primer número en la cadena utilizando una expresión regular\n",
    "    match = re.search(r'\\d', cadena)\n",
    "    \n",
    "    # Si se encuentra un número, devolverlo como entero\n",
    "    if match:\n",
    "        return int(match.group())\n",
    "    # Si no se encuentra ningún número, devolver 3\n",
    "    else:\n",
    "        return 3\n",
    "    \n",
    "def processing_agrupar_categorias(value_counts, lista):\n",
    "    # Crear un diccionario para almacenar el mapeo de categorías\n",
    "    mapeo = {}\n",
    "    \n",
    "    # Iterar sobre los value counts\n",
    "    for categoria, conteo in value_counts.items():\n",
    "        # Si el conteo es menor que 10, agruparlo en \"otro\"\n",
    "        if conteo < 50:\n",
    "            mapeo[categoria] = \"otra\"\n",
    "        # Si el conteo es mayor o igual a 10, mantener la categoría original\n",
    "        else:\n",
    "            mapeo[categoria] = categoria\n",
    "    \n",
    "    # Aplicar el mapeo a la lista y devolver la lista resultante\n",
    "    return [mapeo.get(categoria, \"otra\") for categoria in lista]"
   ]
  },
  {
   "cell_type": "code",
   "execution_count": 200,
   "id": "6d064a91",
   "metadata": {},
   "outputs": [],
   "source": [
    "# Fecha nacimiento cambiarla por edad\n",
    "data_demo['edad'] = data_demo.fecha_nacimiento.apply(processing_calcular_edad)\n",
    "data_demo.drop(['fecha_nacimiento'], axis = 1, inplace=True)\n",
    "\n",
    "# Estandarizar textos\n",
    "for col_str in data_demo.select_dtypes(['object']).columns:\n",
    "    data_demo[col_str] = data_demo[col_str].apply(processing_quitar_cadenas_texto)\n",
    "\n",
    "data_demo.ingreso_neto = data_demo.ingreso_neto.astype(float)\n",
    "#quitando el años y meses\n",
    "data_demo.tiempo_op_negocio = data_demo.tiempo_op_negocio.apply(processing_extraer_primer_numero)\n",
    "\n",
    "data_demo.tiempo_vivienda = data_demo.tiempo_vivienda.apply(processing_extraer_primer_numero)\n",
    "data_demo.tiempo_vivienda = data_demo.tiempo_vivienda.astype(int)\n",
    "\n",
    "data_demo.tipo_negocio = agrupar_categorias(data_demo.tipo_negocio.value_counts(), data_demo.tipo_negocio)\n",
    "data_demo.tipo_negocio = data_demo.tiempo_vivienda.astype(int)\n",
    "\n",
    "data_demo.id_distribuidor = data_demo.id_distribuidor.astype(str)"
   ]
  },
  {
   "cell_type": "code",
   "execution_count": 201,
   "id": "7ab5605a",
   "metadata": {},
   "outputs": [],
   "source": [
    "\n",
    "cols = ['dependientes', 'tiempo_vivienda', 'ingreso_neto', 'tipo_negocio',\n",
    "       'tiempo_op_negocio', 'edad']\n",
    "scaler = StandardScaler()\n",
    "scaler.fit(data_demo[cols])\n",
    "\n",
    "joblib.dump(scaler, './data/staging/data_demo_scaler.pkl')\n",
    "\n",
    "scaler_loaded = joblib.load('./data/staging/data_demo_scaler.pkl')\n",
    "\n",
    "variables_numericas_escaladas = pd.DataFrame(scaler_loaded.transform(data_demo[cols]), columns = cols)"
   ]
  },
  {
   "cell_type": "code",
   "execution_count": 202,
   "id": "e4592d8c",
   "metadata": {},
   "outputs": [],
   "source": [
    "data_demo_scaled = pd.concat([data_demo.drop(cols, axis=1), variables_numericas_escaladas], axis = 1)"
   ]
  },
  {
   "cell_type": "code",
   "execution_count": 203,
   "id": "b3ff79aa",
   "metadata": {},
   "outputs": [
    {
     "data": {
      "text/html": [
       "<div>\n",
       "<style scoped>\n",
       "    .dataframe tbody tr th:only-of-type {\n",
       "        vertical-align: middle;\n",
       "    }\n",
       "\n",
       "    .dataframe tbody tr th {\n",
       "        vertical-align: top;\n",
       "    }\n",
       "\n",
       "    .dataframe thead th {\n",
       "        text-align: right;\n",
       "    }\n",
       "</style>\n",
       "<table border=\"1\" class=\"dataframe\">\n",
       "  <thead>\n",
       "    <tr style=\"text-align: right;\">\n",
       "      <th></th>\n",
       "      <th>id_distribuidor</th>\n",
       "      <th>estado</th>\n",
       "      <th>sucursal</th>\n",
       "      <th>escolaridad</th>\n",
       "      <th>estado_civil</th>\n",
       "      <th>tipo_vivienda</th>\n",
       "      <th>sexo</th>\n",
       "      <th>experiencia</th>\n",
       "      <th>dependientes</th>\n",
       "      <th>tiempo_vivienda</th>\n",
       "      <th>ingreso_neto</th>\n",
       "      <th>tipo_negocio</th>\n",
       "      <th>tiempo_op_negocio</th>\n",
       "      <th>edad</th>\n",
       "    </tr>\n",
       "  </thead>\n",
       "  <tbody>\n",
       "    <tr>\n",
       "      <th>0</th>\n",
       "      <td>116</td>\n",
       "      <td>mexico</td>\n",
       "      <td>chimalhuacan_2</td>\n",
       "      <td>bachillerato</td>\n",
       "      <td>divorciada</td>\n",
       "      <td>propia</td>\n",
       "      <td>femenino</td>\n",
       "      <td>no</td>\n",
       "      <td>-0.781247</td>\n",
       "      <td>0.663563</td>\n",
       "      <td>-0.074213</td>\n",
       "      <td>0.663563</td>\n",
       "      <td>-1.015644</td>\n",
       "      <td>0.929008</td>\n",
       "    </tr>\n",
       "  </tbody>\n",
       "</table>\n",
       "</div>"
      ],
      "text/plain": [
       "  id_distribuidor  estado        sucursal   escolaridad estado_civil  \\\n",
       "0             116  mexico  chimalhuacan_2  bachillerato   divorciada   \n",
       "\n",
       "  tipo_vivienda      sexo experiencia  dependientes  tiempo_vivienda  \\\n",
       "0        propia  femenino          no     -0.781247         0.663563   \n",
       "\n",
       "   ingreso_neto  tipo_negocio  tiempo_op_negocio      edad  \n",
       "0     -0.074213      0.663563          -1.015644  0.929008  "
      ]
     },
     "execution_count": 203,
     "metadata": {},
     "output_type": "execute_result"
    }
   ],
   "source": [
    "data_demo_scaled.head(1)"
   ]
  },
  {
   "cell_type": "code",
   "execution_count": 204,
   "id": "c4f96f38",
   "metadata": {},
   "outputs": [],
   "source": [
    "data_demo_scaled.to_csv(f\"./data/staging/data_demografica_{fecha}_staging.csv\", index = False)"
   ]
  },
  {
   "cell_type": "markdown",
   "id": "a2a0eece",
   "metadata": {},
   "source": [
    "## Círculo de crédito"
   ]
  },
  {
   "cell_type": "code",
   "execution_count": 8,
   "id": "92a8a19a",
   "metadata": {},
   "outputs": [],
   "source": [
    "data_cc = pd.read_csv(f\"./data/raw/data_cc_{fecha}_raw.csv\")\n",
    "data_cc.id_distribuidor = data_cc.id_distribuidor.astype(str)\n",
    "data_cc.folio = data_cc.folio.astype(str)"
   ]
  },
  {
   "cell_type": "code",
   "execution_count": 9,
   "id": "58f55fd5",
   "metadata": {},
   "outputs": [],
   "source": [
    "data_cc.creditos_con_claves_prevencion = data_cc.creditos_con_claves_prevencion / data_cc.creditos_totales\n",
    "data_cc.creditos_completados_con_atraso = data_cc.creditos_completados_con_atraso / data_cc.creditos_totales\n",
    "\n",
    "data_cc.drop(['creditos_completados_sin_atraso'], axis = 1, inplace=True)"
   ]
  },
  {
   "cell_type": "code",
   "execution_count": 16,
   "id": "09378240",
   "metadata": {},
   "outputs": [],
   "source": [
    "scaler = StandardScaler()\n",
    "cols = ['saldo_vencido_total', 'pagos_vencidos', 'creditos_totales']\n",
    "scaler.fit(data_cc[cols])\n",
    "\n",
    "joblib.dump(scaler, './data/staging/data_cc_scaler.pkl')\n",
    "\n",
    "scaler_loaded = joblib.load('./data/staging/data_cc_scaler.pkl')\n",
    "\n",
    "variables_numericas_escaladas = pd.DataFrame(scaler_loaded.transform(data_cc[cols]), columns = cols)"
   ]
  },
  {
   "cell_type": "code",
   "execution_count": 17,
   "id": "b333fb60",
   "metadata": {},
   "outputs": [],
   "source": [
    "data_cc_scaled = pd.concat([data_cc.drop(cols, axis = 1), variables_numericas_escaladas], axis = 1)"
   ]
  },
  {
   "cell_type": "code",
   "execution_count": 18,
   "id": "80f53c02",
   "metadata": {},
   "outputs": [
    {
     "data": {
      "text/html": [
       "<div>\n",
       "<style scoped>\n",
       "    .dataframe tbody tr th:only-of-type {\n",
       "        vertical-align: middle;\n",
       "    }\n",
       "\n",
       "    .dataframe tbody tr th {\n",
       "        vertical-align: top;\n",
       "    }\n",
       "\n",
       "    .dataframe thead th {\n",
       "        text-align: right;\n",
       "    }\n",
       "</style>\n",
       "<table border=\"1\" class=\"dataframe\">\n",
       "  <thead>\n",
       "    <tr style=\"text-align: right;\">\n",
       "      <th></th>\n",
       "      <th>id_distribuidor</th>\n",
       "      <th>folio</th>\n",
       "      <th>creditos_con_claves_prevencion</th>\n",
       "      <th>creditos_completados_con_atraso</th>\n",
       "      <th>saldo_vencido_total</th>\n",
       "      <th>pagos_vencidos</th>\n",
       "      <th>creditos_totales</th>\n",
       "    </tr>\n",
       "  </thead>\n",
       "  <tbody>\n",
       "    <tr>\n",
       "      <th>0</th>\n",
       "      <td>100002</td>\n",
       "      <td>1063536978</td>\n",
       "      <td>0.245614</td>\n",
       "      <td>0.105263</td>\n",
       "      <td>-0.116507</td>\n",
       "      <td>-0.394202</td>\n",
       "      <td>0.271682</td>\n",
       "    </tr>\n",
       "  </tbody>\n",
       "</table>\n",
       "</div>"
      ],
      "text/plain": [
       "  id_distribuidor       folio  creditos_con_claves_prevencion  \\\n",
       "0          100002  1063536978                        0.245614   \n",
       "\n",
       "   creditos_completados_con_atraso  saldo_vencido_total  pagos_vencidos  \\\n",
       "0                         0.105263            -0.116507       -0.394202   \n",
       "\n",
       "   creditos_totales  \n",
       "0          0.271682  "
      ]
     },
     "execution_count": 18,
     "metadata": {},
     "output_type": "execute_result"
    }
   ],
   "source": [
    "data_cc_scaled.head(1)"
   ]
  },
  {
   "cell_type": "code",
   "execution_count": 210,
   "id": "fb49519c",
   "metadata": {},
   "outputs": [],
   "source": [
    "data_cc_scaled.to_csv(f\"./data/staging/data_cc_{fecha}_staging.csv\", index = False)"
   ]
  },
  {
   "cell_type": "code",
   "execution_count": null,
   "id": "960b751d",
   "metadata": {},
   "outputs": [],
   "source": []
  },
  {
   "cell_type": "code",
   "execution_count": null,
   "id": "de0ac0e0",
   "metadata": {},
   "outputs": [],
   "source": []
  }
 ],
 "metadata": {
  "kernelspec": {
   "display_name": "Python 3 (ipykernel)",
   "language": "python",
   "name": "python3"
  },
  "language_info": {
   "codemirror_mode": {
    "name": "ipython",
    "version": 3
   },
   "file_extension": ".py",
   "mimetype": "text/x-python",
   "name": "python",
   "nbconvert_exporter": "python",
   "pygments_lexer": "ipython3",
   "version": "3.11.4"
  }
 },
 "nbformat": 4,
 "nbformat_minor": 5
}
