{
 "cells": [
  {
   "cell_type": "code",
   "execution_count": 3,
   "id": "71b3b545",
   "metadata": {},
   "outputs": [],
   "source": [
    "import numpy as np\n",
    "import pandas as pd\n",
    "import pymysql\n",
    "from datetime import datetime"
   ]
  },
  {
   "cell_type": "code",
   "execution_count": 4,
   "id": "a8737e63",
   "metadata": {},
   "outputs": [],
   "source": [
    "fecha_actual = datetime.now()\n",
    "fecha = fecha_actual.strftime(\"%Y_%m_%d\")"
   ]
  },
  {
   "cell_type": "code",
   "execution_count": 6,
   "id": "6eaab1eb",
   "metadata": {},
   "outputs": [],
   "source": [
    "sql_comportamiento = \"\"\"\n",
    "select *\n",
    "from\n",
    "\t(select ca.*, cd.saldo_pendiente_total as saldo, \n",
    "    cd.total_pagado_capital as 'capital_pagado', \n",
    "    cd.saldo_pendiente_capital as 'capital_pendiente',\n",
    "    cd.total_pagado_capital + cd.saldo_pendiente_capital as 'capital',\n",
    "    1 - cd.total_pagado_capital / (cd.total_pagado_capital + cd.saldo_pendiente_capital)  as 'perdida_cosecha',\n",
    "    cd.dias_atraso,cd.fecha,cd.status,\n",
    "\tcd.fecha_aut_linea as fecha_inicio_relacion\n",
    "    -- cd.reestructurado,pagos_anticipados_u4p,pagos_en_tiempo_u4p,\n",
    "    -- pagos_destiempo_u4p,pagos_pendientes_u4p\n",
    "\tfrom\n",
    "\t(\n",
    "\tselect \n",
    "\tcas.id_distribuidor, \n",
    "\tmax(cas.id_red) as 'id_red', \n",
    "\tcas.id_asociado as id_operacion,\n",
    "\tmax(cas.tipo_prestamo) as 'tipo_prestamo',\n",
    "\tmax(cas.fin_credito) as fecha_cierre,\n",
    "\tmax(cas.dispersion) as fecha_de_dispersion\n",
    "\tfrom (\n",
    "\t\tselect \n",
    "\t\tif(tipo_prestamo = 'PRESTAMO PERSONAL RED', id_distribuidor_linea_de_credito, id_distribuidor) as 'id_distribuidor', \n",
    "\t\tid_distribuidor as 'id_red',\n",
    "\t\ttipo_prestamo,\n",
    "\t\tfin_credito,\n",
    "\t\tdispersion,\n",
    "\t\tid_asociado\n",
    "\t\tfrom colocacion_asociado\n",
    "\t) as cas \n",
    "\tgroup by \n",
    "\t\tcas.id_distribuidor, \n",
    "\t\tcas.id_asociado\n",
    "\t) ca\n",
    "\tleft join cartera_distribuidor cd on ca.id_red = cd.id_distribuidor\n",
    "\twhere -- cd.fecha = '2023-08-25'\n",
    "\tfecha_de_dispersion>='2021-07-01'\n",
    "\t-- and cd.fecha >= fecha_de_dispersion \n",
    "    and cd.fecha = DATE_ADD(fecha_cierre, INTERVAL 4 MONTH)\n",
    "\n",
    ") as qry    \n",
    "\"\"\""
   ]
  },
  {
   "cell_type": "markdown",
   "id": "5c34582a",
   "metadata": {},
   "source": [
    "**Extrayendo información de comportamiento**\n",
    "\n",
    "Toma tiempo"
   ]
  },
  {
   "cell_type": "code",
   "execution_count": null,
   "id": "473d3359",
   "metadata": {},
   "outputs": [],
   "source": [
    "cnx = pymysql.connect(host='159.89.90.197', port = 3306, user='antonio_diaz', passwd=\"4nT0ni_0.dZ\",\n",
    "                               charset='utf8',db = 'volana')\n",
    "cursor = cnx.cursor()\n",
    "cursor.execute(sql_comportamiento)\n",
    "data_comportamiento = cursor.fetchall()\n",
    "data_comportamiento = pd.DataFrame(data_comportamiento, columns=[i[0] for i in cursor.description])\n",
    "cnx.close()"
   ]
  },
  {
   "cell_type": "code",
   "execution_count": null,
   "id": "64694aca",
   "metadata": {},
   "outputs": [],
   "source": [
    "data_comportamiento.to_csv(f\"./data/raw/data_comportamiento_{fecha}_raw.csv\", index = False)"
   ]
  },
  {
   "cell_type": "code",
   "execution_count": null,
   "id": "5a5f9ce1",
   "metadata": {},
   "outputs": [],
   "source": [
    "data_comportamiento.head(1)"
   ]
  },
  {
   "cell_type": "markdown",
   "id": "b0ebca9b",
   "metadata": {},
   "source": [
    "**Describiendo el dataset**"
   ]
  },
  {
   "cell_type": "code",
   "execution_count": null,
   "id": "d25ed3e6",
   "metadata": {},
   "outputs": [],
   "source": [
    "print(f\"Filas: {data_comportamiento.shape[0]}\")\n",
    "print(f\"\\nConteo: \\n{data_comportamiento.tipo_prestamo.value_counts()}\")"
   ]
  },
  {
   "cell_type": "markdown",
   "id": "2614cca8",
   "metadata": {},
   "source": [
    "**Cruzando con demográficos**"
   ]
  },
  {
   "cell_type": "code",
   "execution_count": null,
   "id": "bec364ff",
   "metadata": {},
   "outputs": [],
   "source": [
    "ids = \", \".join(data_comportamiento.id_distribuidor.unique())"
   ]
  },
  {
   "cell_type": "code",
   "execution_count": 63,
   "id": "0ac838c2",
   "metadata": {},
   "outputs": [],
   "source": [
    "sql_demograficos = f\"\"\"\n",
    " SELECT * FROM\n",
    "    (select id, fecha_nacimiento,\n",
    "           estado, sucursal, \n",
    "           escolaridad, estado_civil, dependientes, tipo_vivienda,\n",
    "            sexo,\n",
    "           tiempo_vivienda, ingreso_neto, experiencia,\n",
    "           tipo_negocio, tiempo_op_negocio,capacidad_pago_semanal\n",
    "           from demograficos_distribuidores \n",
    "    UNION\n",
    "    select id, fecha_nacimiento,\n",
    "           estado, sucursal, \n",
    "           escolaridad, estado_civil, dependientes, tipo_vivienda,\n",
    "           sexo,\n",
    "           tiempo_vivienda, ingreso_neto, experiencia,\n",
    "           tipo_negocio, tiempo_op_negocio, capacidad_pago_semanal\n",
    "           from cc_prospectos_demograficos\n",
    "    ) as pen\n",
    "     where\n",
    "    pen.id in ({ids})\n",
    "\"\"\""
   ]
  },
  {
   "cell_type": "code",
   "execution_count": 64,
   "id": "b58d6e58",
   "metadata": {},
   "outputs": [],
   "source": [
    "cnx = pymysql.connect(host='159.89.90.197', port = 3306, user='antonio_diaz', passwd=\"4nT0ni_0.dZ\",\n",
    "                               charset='utf8',db = 'volana')\n",
    "cursor = cnx.cursor()\n",
    "cursor.execute(sql_demograficos)\n",
    "data_demo = cursor.fetchall()\n",
    "data_demo = pd.DataFrame(data_demo, columns=[i[0] for i in cursor.description])\n",
    "cnx.close()"
   ]
  },
  {
   "cell_type": "code",
   "execution_count": 65,
   "id": "7f4c6a5f",
   "metadata": {},
   "outputs": [],
   "source": [
    "data_demo = data_demo.rename(columns = {\"id\":\"id_distribuidor\"})"
   ]
  },
  {
   "cell_type": "code",
   "execution_count": 66,
   "id": "bedc4803",
   "metadata": {},
   "outputs": [],
   "source": [
    "data_demo.to_csv(f\"./data/raw/data_demografica_{fecha}_raw.csv\", index = False)"
   ]
  },
  {
   "cell_type": "code",
   "execution_count": 31,
   "id": "b9494b29",
   "metadata": {},
   "outputs": [
    {
     "data": {
      "text/html": [
       "<div>\n",
       "<style scoped>\n",
       "    .dataframe tbody tr th:only-of-type {\n",
       "        vertical-align: middle;\n",
       "    }\n",
       "\n",
       "    .dataframe tbody tr th {\n",
       "        vertical-align: top;\n",
       "    }\n",
       "\n",
       "    .dataframe thead th {\n",
       "        text-align: right;\n",
       "    }\n",
       "</style>\n",
       "<table border=\"1\" class=\"dataframe\">\n",
       "  <thead>\n",
       "    <tr style=\"text-align: right;\">\n",
       "      <th></th>\n",
       "      <th>id</th>\n",
       "      <th>fecha_nacimiento</th>\n",
       "      <th>ocupacion</th>\n",
       "      <th>estado</th>\n",
       "      <th>sucursal</th>\n",
       "      <th>escolaridad</th>\n",
       "      <th>estado_civil</th>\n",
       "      <th>dependientes</th>\n",
       "      <th>tipo_vivienda</th>\n",
       "      <th>sexo</th>\n",
       "      <th>tiempo_vivienda</th>\n",
       "      <th>ingreso_neto</th>\n",
       "      <th>experiencia</th>\n",
       "      <th>tipo_negocio</th>\n",
       "      <th>tiempo_op_negocio</th>\n",
       "      <th>capacidad_pago_semanal</th>\n",
       "    </tr>\n",
       "  </thead>\n",
       "  <tbody>\n",
       "    <tr>\n",
       "      <th>0</th>\n",
       "      <td>116</td>\n",
       "      <td>1969-06-12</td>\n",
       "      <td>comerciante</td>\n",
       "      <td>México</td>\n",
       "      <td>CHIMALHUACAN 2</td>\n",
       "      <td>Bachillerato</td>\n",
       "      <td>Divorciada (o)</td>\n",
       "      <td>0</td>\n",
       "      <td>Propia</td>\n",
       "      <td>FEMENINO</td>\n",
       "      <td>40 AÑOS 1 MESES</td>\n",
       "      <td>$0.00</td>\n",
       "      <td>NO</td>\n",
       "      <td>ABARROTES/MISCELANEAS/PERECEDEROS</td>\n",
       "      <td>10 AÑOS 12 MESES</td>\n",
       "      <td>NaN</td>\n",
       "    </tr>\n",
       "  </tbody>\n",
       "</table>\n",
       "</div>"
      ],
      "text/plain": [
       "    id fecha_nacimiento    ocupacion  estado        sucursal   escolaridad  \\\n",
       "0  116       1969-06-12  comerciante  México  CHIMALHUACAN 2  Bachillerato   \n",
       "\n",
       "     estado_civil dependientes tipo_vivienda      sexo   tiempo_vivienda  \\\n",
       "0  Divorciada (o)            0        Propia  FEMENINO  40 AÑOS 1 MESES    \n",
       "\n",
       "  ingreso_neto experiencia                       tipo_negocio  \\\n",
       "0        $0.00          NO  ABARROTES/MISCELANEAS/PERECEDEROS   \n",
       "\n",
       "   tiempo_op_negocio  capacidad_pago_semanal  \n",
       "0  10 AÑOS 12 MESES                      NaN  "
      ]
     },
     "execution_count": 31,
     "metadata": {},
     "output_type": "execute_result"
    }
   ],
   "source": [
    "data_demo.head(1)"
   ]
  },
  {
   "cell_type": "markdown",
   "id": "29888841",
   "metadata": {},
   "source": [
    "**Describiendo el dataset**"
   ]
  },
  {
   "cell_type": "code",
   "execution_count": 34,
   "id": "dc9dbd8c",
   "metadata": {},
   "outputs": [
    {
     "data": {
      "text/plain": [
       "48"
      ]
     },
     "execution_count": 34,
     "metadata": {},
     "output_type": "execute_result"
    }
   ],
   "source": [
    "np.setdiff1d(data_comportamiento.id_distribuidor, data_demo.id_distribuidor).shape[0]"
   ]
  },
  {
   "cell_type": "code",
   "execution_count": 35,
   "id": "ad377881",
   "metadata": {},
   "outputs": [
    {
     "name": "stdout",
     "output_type": "stream",
     "text": [
      "Filas: 9024\n",
      "\n",
      "Conteo: \n",
      "9018\n"
     ]
    }
   ],
   "source": [
    "print(f\"Filas: {data_demo.shape[0]}\")\n",
    "print(f\"\\nConteo:{data_demo.id_distribuidor.nunique()}\")"
   ]
  },
  {
   "cell_type": "markdown",
   "id": "9c0e0509",
   "metadata": {},
   "source": [
    "Hay 48 personas que se perderán en el camino por no tener información demográfica"
   ]
  },
  {
   "cell_type": "markdown",
   "id": "a4815c03",
   "metadata": {},
   "source": [
    "## **Cruzando con círculo de crédito**"
   ]
  },
  {
   "cell_type": "code",
   "execution_count": null,
   "id": "d74063b8",
   "metadata": {},
   "outputs": [],
   "source": [
    "sql_cc = f\"\"\"\n",
    "SELECT consultas.id_distribuidor, cuentas.*\n",
    "FROM\n",
    " (SELECT \n",
    "\tfolio, \n",
    "\tsum(SaldoVencido) as 'saldo_vencido_total', \n",
    "    sum(NumeroPagosVencidos) as 'pagos_vencidos',\n",
    "    count(folioOtorgante) as 'creditos_totales',\n",
    "    count(ClavePrevencion) as 'creditos_con_claves_prevencion',\n",
    "    COUNT(IF(SaldoVencido = 0, NULL, 1)) as 'creditos_completados_con_atraso',\n",
    "    COUNT(IF(SaldoVencido = 0, 1, NULL)) as 'creditos_completados_sin_atraso'\n",
    " FROM cc_cuentas\n",
    " GROUP BY folio) as cuentas\n",
    "JOIN (select max(folio) as 'folio', id_distribuidor from cc_consultas_efectuadas group by id_distribuidor) as consultas\n",
    " ON cuentas.folio = consultas.folio\n",
    " where consultas.id_distribuidor in ({ids})\n",
    " \"\"\"\n",
    " "
   ]
  },
  {
   "cell_type": "code",
   "execution_count": null,
   "id": "abceff24",
   "metadata": {},
   "outputs": [],
   "source": [
    "cnx = pymysql.connect(host='159.89.90.197', port = 3306, user='antonio_diaz', passwd=\"4nT0ni_0.dZ\",\n",
    "                               charset='utf8',db = 'volana')\n",
    "cursor = cnx.cursor()\n",
    "cursor.execute(sql_cc)\n",
    "data_cc = cursor.fetchall()\n",
    "data_cc = pd.DataFrame(data_cc, columns=[i[0] for i in cursor.description])\n",
    "cnx.close()"
   ]
  },
  {
   "cell_type": "code",
   "execution_count": null,
   "id": "94a70169",
   "metadata": {},
   "outputs": [],
   "source": [
    "data_cc.to_csv(f\"./data/raw/data_cc_{fecha}_raw.csv\", index = False)"
   ]
  },
  {
   "cell_type": "code",
   "execution_count": null,
   "id": "54f4b2e8",
   "metadata": {},
   "outputs": [],
   "source": [
    "data_cc.head(1)"
   ]
  },
  {
   "cell_type": "code",
   "execution_count": null,
   "id": "e4fe46a7",
   "metadata": {},
   "outputs": [],
   "source": []
  },
  {
   "cell_type": "code",
   "execution_count": 54,
   "id": "49012bc4",
   "metadata": {},
   "outputs": [
    {
     "data": {
      "text/plain": [
       "5016"
      ]
     },
     "execution_count": 54,
     "metadata": {},
     "output_type": "execute_result"
    }
   ],
   "source": [
    "np.setdiff1d(data_comportamiento.id_distribuidor, data_cc.id_distribuidor).shape[0]"
   ]
  },
  {
   "cell_type": "code",
   "execution_count": 55,
   "id": "2b14bff0",
   "metadata": {},
   "outputs": [
    {
     "data": {
      "text/plain": [
       "4978"
      ]
     },
     "execution_count": 55,
     "metadata": {},
     "output_type": "execute_result"
    }
   ],
   "source": [
    "np.setdiff1d(data_demo.id_distribuidor, data_cc.id_distribuidor).shape[0]"
   ]
  },
  {
   "cell_type": "code",
   "execution_count": 46,
   "id": "c7715c88",
   "metadata": {},
   "outputs": [
    {
     "name": "stdout",
     "output_type": "stream",
     "text": [
      "Filas: 4459\n",
      "\n",
      "Conteo:4459\n"
     ]
    }
   ],
   "source": [
    "print(f\"Filas: {data_cc.shape[0]}\")\n",
    "print(f\"\\nConteo:{data_cc.id_distribuidor.nunique()}\")"
   ]
  },
  {
   "cell_type": "markdown",
   "id": "ce36b490",
   "metadata": {},
   "source": [
    "Hay muy pocos que tienen consultas de CC, que tendremos que quitar"
   ]
  },
  {
   "cell_type": "code",
   "execution_count": 58,
   "id": "652fd502",
   "metadata": {},
   "outputs": [
    {
     "data": {
      "text/plain": [
       "4040"
      ]
     },
     "execution_count": 58,
     "metadata": {},
     "output_type": "execute_result"
    }
   ],
   "source": [
    "np.intersect1d(np.intersect1d(data_comportamiento.id_distribuidor, data_demo.id_distribuidor),data_cc.id_distribuidor).shape[0]"
   ]
  },
  {
   "cell_type": "markdown",
   "id": "c9fa2115",
   "metadata": {},
   "source": [
    "Tenemos solo 4040 registros ejectivos con CC, demográficos y comportamiento"
   ]
  }
 ],
 "metadata": {
  "kernelspec": {
   "display_name": "Python 3 (ipykernel)",
   "language": "python",
   "name": "python3"
  },
  "language_info": {
   "codemirror_mode": {
    "name": "ipython",
    "version": 3
   },
   "file_extension": ".py",
   "mimetype": "text/x-python",
   "name": "python",
   "nbconvert_exporter": "python",
   "pygments_lexer": "ipython3",
   "version": "3.11.4"
  }
 },
 "nbformat": 4,
 "nbformat_minor": 5
}
